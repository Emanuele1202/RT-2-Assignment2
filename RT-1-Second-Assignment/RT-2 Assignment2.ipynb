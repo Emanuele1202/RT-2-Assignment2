{
 "cells": [
  {
   "cell_type": "markdown",
   "id": "1cffbb15",
   "metadata": {},
   "source": [
    "Importing Libraries"
   ]
  },
  {
   "cell_type": "code",
   "execution_count": null,
   "id": "c6159a17",
   "metadata": {},
   "outputs": [],
   "source": [
    "import math\n",
    "import actionlib\n",
    "import actionlib.msg\n",
    "import assignment_2_2022.msg\n",
    "import rospy\n",
    "import time\n",
    "import sys\n",
    "import select\n",
    "from geometry_msgs.msg import Point, Pose, Twist\n",
    "from sensor_msgs.msg import LaserScan\n",
    "from nav_msgs.msg import Odometry\n",
    "from tf import transformations\n",
    "from std_srvs.srv import *\n",
    "from assignment_2_2022.msg import Robot_pos_vel\n",
    "\n",
    "import tf\n",
    "from tf.transformations import quaternion_matrix\n",
    "import numpy as np\n",
    "from matplotlib.animation import FuncAnimation\n",
    "import numpy as np\n",
    "import matplotlib as mpl\n",
    "\n",
    "import jupyros as jr\n",
    "import rospy\n",
    "import ipywidgets as widgets\n",
    "from ipywidgets import Button, Layout, ButtonStyle, GridBox, VBox, HBox\n",
    "from matplotlib import pyplot as plt\n"
   ]
  },
  {
   "cell_type": "markdown",
   "id": "e03ec5b7",
   "metadata": {},
   "source": [
    "Defining variables - starting node and publisher"
   ]
  },
  {
   "cell_type": "code",
   "execution_count": null,
   "id": "b801fcbe",
   "metadata": {},
   "outputs": [],
   "source": [
    "global goal\n",
    "global client\n",
    "global publisher\n",
    "global msg\n",
    "global cancelled_goals\n",
    "global reached_goals\n",
    "global goal_list\n",
    "\n",
    "x_plot = []\n",
    "y_plot = []\n",
    "xg_plot = []\n",
    "yg_plot = []\n",
    "\n",
    "# Initializes a rospy node so that the SimpleActionClient can publish and subscribe over ROS.\n",
    "rospy.init_node('action_client_py')\n",
    "\n",
    "# Publisher to /pos_and_vel topic the position and velocity\n",
    "pub = rospy.Publisher(\"/robot_pos_vel\", Robot_pos_vel, queue_size=10)"
   ]
  },
  {
   "cell_type": "markdown",
   "id": "a887cc50",
   "metadata": {},
   "source": [
    "Callback Function"
   ]
  },
  {
   "cell_type": "code",
   "execution_count": null,
   "id": "f35fd0f4",
   "metadata": {},
   "outputs": [],
   "source": [
    "def callback(msg):\n",
    "    global pub\n",
    "    global x_plot, y_plot\n",
    "    \n",
    "    # Fill the matrix plot with the coordinates\n",
    "    x_plot.append(msg.pose.pose.position.x)\n",
    "    y_plot.append(msg.pose.pose.position.y)\n",
    "    \n",
    "    # Get the position \n",
    "    pos = msg.pose.pose.position\n",
    "    \n",
    "    # Get the linear velocity\n",
    "    linear_velocity = msg.twist.twist.linear\n",
    "    \n",
    "    # Create custom message\n",
    "    robot_pos_vel = Robot_pos_vel()\n",
    "    robot_pos_vel.pos_x = pos.x\n",
    "    robot_pos_vel.pos_y = pos.y\n",
    "    robot_pos_vel.vel_x = linear_velocity.x\n",
    "    robot_pos_vel.vel_y = linear_velocity.y\n",
    "    \n",
    "    # Publish the custom message\n",
    "    pub.publish(robot_pos_vel)\n"
   ]
  },
  {
   "cell_type": "markdown",
   "id": "72a56356",
   "metadata": {},
   "source": [
    "Subscriber to the topic /odom"
   ]
  },
  {
   "cell_type": "code",
   "execution_count": null,
   "id": "f3db9105",
   "metadata": {},
   "outputs": [],
   "source": [
    "# Subscriber to /odom topic to get position and velocity\n",
    "jr.subscribe(\"/odom\", Odometry, callback)"
   ]
  },
  {
   "cell_type": "markdown",
   "id": "c14bd31d",
   "metadata": {},
   "source": [
    "Setting action client + interface to set/cancel goal"
   ]
  },
  {
   "cell_type": "code",
   "execution_count": null,
   "id": "74e4d4a4",
   "metadata": {
    "scrolled": true
   },
   "outputs": [],
   "source": [
    "# Creates the SimpleActionClient, passing the type of the action to the constructor.\n",
    "client = actionlib.SimpleActionClient('/reaching_goal', assignment_2_2022.msg.PlanningAction)\n",
    "\n",
    "# Waits until the action server has started up and started listening for goals.\n",
    "client.wait_for_server()\n",
    "\n",
    "goal = assignment_2_2022.msg.PlanningGoal()\n",
    "\n",
    "# Goal coordinates\n",
    "x = widgets.FloatText(description = \"x:\")\n",
    "y = widgets.FloatText(description = \"y:\")\n",
    "display(x, y)\n",
    "\n",
    "# Widgets Buttons\n",
    "send_button = Button(description='Send goal',tooltip='Send goal',layout=Layout(width='50%', height='100px', grid_area='b1'),button_style='info')\n",
    "cancel_button = Button(description='Cancel goal',tooltip='Cancel goal',layout=Layout(width='50%',height='100px', grid_area='b2'),button_style='danger')\n",
    "display(send_button, cancel_button)\n",
    "\n",
    "# if send button is clicked \n",
    "def on_button_send_clicked(b):\n",
    "    \n",
    "    goal.target_pose.pose.position.x = x.value\n",
    "    goal.target_pose.pose.position.y = y.value\n",
    "    \n",
    "    #update goal list\n",
    "    goal_list.value = goal_list.value + \"Goal x: \" + str(x.value) + \"  y: \" + str(y.value) + \"\\n\"\n",
    "    \n",
    "    #send the goal returned by set_goal()\n",
    "    client.send_goal(goal)\n",
    "    \n",
    "    # add goal to coordinates to plot\n",
    "    xg_plot.append(x.value)\n",
    "    yg_plot.append(y.value)\n",
    "    \n",
    "    x.disabled = True\n",
    "    y.disabled = True\n",
    "    send_button.disabled = True\n",
    "    cancel_button.disabled = False\n",
    "    \n",
    "\n",
    "send_button.on_click(on_button_send_clicked)\n",
    "\n",
    "\n",
    "def on_cancel_button_clicked(b):\n",
    "    client.cancel_goal()\n",
    "    \n",
    "cancel_button.on_click(on_cancel_button_clicked)"
   ]
  },
  {
   "cell_type": "markdown",
   "id": "6c6b295b",
   "metadata": {},
   "source": [
    "Update values + check goal "
   ]
  },
  {
   "cell_type": "code",
   "execution_count": null,
   "id": "4b52fa1e",
   "metadata": {},
   "outputs": [],
   "source": [
    "def update_num(reached_goals, cancelled_goals):\n",
    "    \n",
    "    goal_list.value = goal_list.value +  str(cancelled_goals)+ \"  Goal cancelled!\\n\"\n",
    "    goal_list.value = goal_list.value +  str(reached_goals)+ \"  Goal reached!\\n\""
   ]
  },
  {
   "cell_type": "code",
   "execution_count": null,
   "id": "8121b03e",
   "metadata": {},
   "outputs": [],
   "source": [
    "def checkGoalResult(msg):\n",
    "    global cancelled_goals, reached_goals\n",
    "    \n",
    "    # Get the status \n",
    "    status = msg.status.status\n",
    "\n",
    "    # If status is 2 the goal is canceled\n",
    "    if status == 2:\n",
    "        \n",
    "        cancelled_goals = cancelled_goals + 1\n",
    "        \n",
    "        x.disabled = False\n",
    "        y.disabled = False\n",
    "        \n",
    "        send_button.disabled = False\n",
    "        cancel_button.disabled = True\n",
    "        \n",
    "        \n",
    "\n",
    "    # If status is 3 the goal is reached\n",
    "    elif status == 3:\n",
    "        \n",
    "        reached_goals = reached_goals + 1\n",
    "        \n",
    "        x.disabled = False\n",
    "        y.disabled = False\n",
    "        \n",
    "        send_button.disabled = False\n",
    "        cancel_button.disabled = True\n",
    "        \n",
    "        \n",
    "\n",
    "    update_num(reached_goals, cancelled_goals)\n",
    "    \n",
    "reached_goals, cancelled_goals = 0,0"
   ]
  },
  {
   "cell_type": "markdown",
   "id": "4fc8b2e5",
   "metadata": {},
   "source": [
    "Subscriber for result"
   ]
  },
  {
   "cell_type": "code",
   "execution_count": null,
   "id": "2ff5f86e",
   "metadata": {},
   "outputs": [],
   "source": [
    "jr.subscribe(\"/reaching_goal/result\", assignment_2_2022.msg.PlanningActionResult, checkGoalResult)\n"
   ]
  },
  {
   "cell_type": "markdown",
   "id": "e6038b71",
   "metadata": {},
   "source": [
    "Laser Function"
   ]
  },
  {
   "cell_type": "code",
   "execution_count": null,
   "id": "28d5f041",
   "metadata": {},
   "outputs": [],
   "source": [
    "dmin = widgets.FloatText(description = \"Distance:\", disabled = True)\n",
    "ang = widgets.FloatText(description = \"Angle:\", disabled = True)\n",
    "\n",
    "def laserCallback(scan):\n",
    "    min_range = 100\n",
    "    angle = 100\n",
    "    for at, x in enumerate(scan.ranges):\n",
    "        if x < min_range and x > scan.range_min:\n",
    "            min_range = x\n",
    "            angle = scan.angle_min + scan.angle_increment * at\n",
    "    \n",
    "    dmin.value = min_range\n",
    "    ang.value = angle"
   ]
  },
  {
   "cell_type": "markdown",
   "id": "5ffdc437",
   "metadata": {},
   "source": [
    "Setting subscriber to the topic /odom"
   ]
  },
  {
   "cell_type": "code",
   "execution_count": null,
   "id": "a65426e2",
   "metadata": {},
   "outputs": [],
   "source": [
    "jr.subscribe('/scan', LaserScan, laserCallback)"
   ]
  },
  {
   "cell_type": "markdown",
   "id": "721544e4",
   "metadata": {},
   "source": [
    "Display real-time error "
   ]
  },
  {
   "cell_type": "code",
   "execution_count": null,
   "id": "12ce9f2f",
   "metadata": {},
   "outputs": [],
   "source": [
    "widgets.HBox([dmin, ang], description = \"Distance from obstacle\")\n"
   ]
  },
  {
   "cell_type": "markdown",
   "id": "35a24e82",
   "metadata": {},
   "source": [
    "Display real-time robot Position and Velocity"
   ]
  },
  {
   "cell_type": "code",
   "execution_count": null,
   "id": "45430f7b",
   "metadata": {},
   "outputs": [],
   "source": [
    "posx = widgets.FloatText(description = \"Pos x:\", disabled = True)\n",
    "posy = widgets.FloatText(description = \"Pos y:\", disabled = True)\n",
    "velx = widgets.FloatText(description = \"Vel x:\", disabled = True)\n",
    "vely = widgets.FloatText(description = \"Vel y:\", disabled = True)\n",
    "    \n",
    "widgets.HBox([widgets.VBox([posx, posy]), widgets.VBox([velx, vely])])"
   ]
  },
  {
   "cell_type": "markdown",
   "id": "0819f398",
   "metadata": {},
   "source": [
    " Update and display a plot based on incoming data"
   ]
  },
  {
   "cell_type": "code",
   "execution_count": null,
   "id": "639402a9",
   "metadata": {},
   "outputs": [],
   "source": [
    "class Visualiser:\n",
    "    \n",
    "    def __init__(self):\n",
    "        self.x_data, self.y_data = [] , []\n",
    "    \n",
    "    def vis_callback(self, data):\n",
    "        self.y_data.append(data.pos_y)\n",
    "        self.x_data.append(data.pos_x)\n",
    "        posx.value = data.pos_x\n",
    "        posy.value = data.pos_y\n",
    "        velx.value = data.vel_x\n",
    "        vely.value = data.vel_y\n",
    "        \n",
    "    def update_plot(self, frame):\n",
    "        self.ln.set_data(self.x_data, self.y_data)\n",
    "        return self.ln"
   ]
  },
  {
   "cell_type": "code",
   "execution_count": null,
   "id": "ea47d5d7",
   "metadata": {},
   "outputs": [],
   "source": [
    "vis = Visualiser()\n",
    "sub = jr.subscribe('/robot_pos_vel', Robot_pos_vel, vis.vis_callback)"
   ]
  },
  {
   "cell_type": "markdown",
   "id": "f3101e7a",
   "metadata": {},
   "source": [
    "Plot real-time position of robot + actual goal"
   ]
  },
  {
   "cell_type": "code",
   "execution_count": null,
   "id": "4876331d",
   "metadata": {},
   "outputs": [],
   "source": [
    "# if the plot does not update, just re - run this cell\n",
    "\n",
    "np_x_plot = np.array(x_plot) \n",
    "np_y_plot = np.array(y_plot)\n",
    "\n",
    "fig = plt.figure()\n",
    "\n",
    "ax = fig.add_axes([0,0,1,1])\n",
    "ax.set_xlim(-10, 10)\n",
    "ax.set_ylim(-10, 10)\n",
    "\n",
    "ax.plot(np_x_plot,np_y_plot,label='trajectory')\n",
    "ax.scatter(xg_plot,yg_plot, color='red',label='goal')\n",
    "\n",
    "ax.set_title(\"my_robot\")\n",
    "ax.set_xlabel(\"x\")\n",
    "ax.set_ylabel(\"y\")\n",
    "ax.legend()"
   ]
  },
  {
   "cell_type": "markdown",
   "id": "77b3835c",
   "metadata": {},
   "source": [
    "Plot of cancelled/reached goals with plt.bar"
   ]
  },
  {
   "cell_type": "code",
   "execution_count": null,
   "id": "8b677caf",
   "metadata": {
    "scrolled": true
   },
   "outputs": [],
   "source": [
    "# if the plot does not update, just re - run this cell\n",
    "\n",
    "n_goal = [reached_goals, cancelled_goals]\n",
    "goals = ['reached goal', 'cancelled goals']\n",
    "\n",
    "plt.bar(goals, n_goal, color=['green', 'red'])\n",
    "\n",
    "plt.xlabel('goals type')\n",
    "plt.ylabel('number')\n",
    "plt.title('Number goals reached/cancelled')\n",
    "\n",
    "plt.show()"
   ]
  },
  {
   "cell_type": "markdown",
   "id": "e56a235a",
   "metadata": {},
   "source": [
    "Displaying cancelled/reached goals"
   ]
  },
  {
   "cell_type": "code",
   "execution_count": null,
   "id": "b4b64f6e",
   "metadata": {},
   "outputs": [],
   "source": [
    "goal_list = widgets.Textarea(value = \"Goal list:\\n\", disabled = True, style = dict(text_color = 'red') )\n",
    "\n",
    "display(goal_list)"
   ]
  }
 ],
 "metadata": {
  "kernelspec": {
   "display_name": "Python 3 (ipykernel)",
   "language": "python",
   "name": "python3"
  },
  "language_info": {
   "codemirror_mode": {
    "name": "ipython",
    "version": 3
   },
   "file_extension": ".py",
   "mimetype": "text/x-python",
   "name": "python",
   "nbconvert_exporter": "python",
   "pygments_lexer": "ipython3",
   "version": "3.8.5"
  },
  "varInspector": {
   "cols": {
    "lenName": 16,
    "lenType": 16,
    "lenVar": 40
   },
   "kernels_config": {
    "python": {
     "delete_cmd_postfix": "",
     "delete_cmd_prefix": "del ",
     "library": "var_list.py",
     "varRefreshCmd": "print(var_dic_list())"
    },
    "r": {
     "delete_cmd_postfix": ") ",
     "delete_cmd_prefix": "rm(",
     "library": "var_list.r",
     "varRefreshCmd": "cat(var_dic_list()) "
    }
   },
   "types_to_exclude": [
    "module",
    "function",
    "builtin_function_or_method",
    "instance",
    "_Feature"
   ],
   "window_display": false
  }
 },
 "nbformat": 4,
 "nbformat_minor": 5
}
